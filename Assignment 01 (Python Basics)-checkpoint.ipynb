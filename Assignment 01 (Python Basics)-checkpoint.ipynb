{
 "cells": [
  {
   "cell_type": "markdown",
   "metadata": {},
   "source": [
    "# Part -1 Python Basics (Variables)"
   ]
  },
  {
   "cell_type": "markdown",
   "metadata": {},
   "source": [
    "1. Print Your Name with your Father name and Date of birth using suitable escape sequence charactor"
   ]
  },
  {
   "cell_type": "code",
   "execution_count": 8,
   "metadata": {},
   "outputs": [
    {
     "name": "stdout",
     "output_type": "stream",
     "text": [
      "Name :ali\n",
      "Fathername :amjad\n",
      "DateOfBirth :20/04/2008\n"
     ]
    }
   ],
   "source": [
    "#Write your code here\n",
    "name=\"ali\"\n",
    "fathername=\"amjad\"\n",
    "dateofbirth=\"20/04/2008\"\n",
    "print(\"Name :\"+ name,)\n",
    "print(\"Fathername :\"+fathername)\n",
    "print(\"DateOfBirth :\"+dateofbirth)"
   ]
  },
  {
   "cell_type": "markdown",
   "metadata": {},
   "source": [
    "2. Write your small bio using variables and print it using print function"
   ]
  },
  {
   "cell_type": "code",
   "execution_count": 9,
   "metadata": {},
   "outputs": [
    {
     "name": "stdout",
     "output_type": "stream",
     "text": [
      "myself ALI, and im studying computer science, ringhnow im in 11th satander i want to become data scientist \n"
     ]
    }
   ],
   "source": [
    "# Write your code here\n",
    "bio=\"myself ALI, and im studying computer science, ringhnow im in 11th satander i want to become data scientist \"\n",
    "print(bio)\n"
   ]
  },
  {
   "cell_type": "markdown",
   "metadata": {},
   "source": [
    "3. Write a program in which use all the operators we can use in Python"
   ]
  },
  {
   "cell_type": "code",
   "execution_count": 12,
   "metadata": {},
   "outputs": [
    {
     "name": "stdout",
     "output_type": "stream",
     "text": [
      "Addition: 19\n",
      "Subtraction: 11\n",
      "Multiplication: 60\n",
      "Division: 3.75\n",
      "Floor Division: 3\n",
      "Modulus: 3\n",
      "Exponent: 50625\n",
      "x after += 5: 15\n",
      "x after -= 3: 12\n",
      "x after *= 2: 24\n",
      "x after /= 4: 6.0\n",
      "x after //= 2: 3.0\n",
      "x after %= 3: 0.0\n",
      "x after **= 2: 0.0\n",
      "a == b: False\n",
      "a != b: True\n",
      "a > b: False\n",
      "a < b: True\n",
      "a >= b: False\n",
      "a <= b: True\n",
      "x and y: False\n",
      "x or y: True\n",
      "not x: False\n"
     ]
    }
   ],
   "source": [
    "# Write your code here\n",
    "# -------------------------------\n",
    "# 1. Arithmetic Operators\n",
    "# -------------------------------\n",
    "a = 15\n",
    "b = 4\n",
    "\n",
    "print(\"Addition:\", a + b)        # 19\n",
    "print(\"Subtraction:\", a - b)     # 11\n",
    "print(\"Multiplication:\", a * b)  # 60\n",
    "print(\"Division:\", a / b)        # 3.75\n",
    "print(\"Floor Division:\", a // b) # 3\n",
    "print(\"Modulus:\", a % b)         # 3\n",
    "print(\"Exponent:\", a ** b)       # 15^4 = 50625\n",
    "\n",
    "# -------------------------------\n",
    "# 2. Assignment Operators\n",
    "# -------------------------------\n",
    "x = 10\n",
    "x += 5   # x = x + 5\n",
    "print(\"x after += 5:\", x)\n",
    "\n",
    "x -= 3   # x = x - 3\n",
    "print(\"x after -= 3:\", x)\n",
    "\n",
    "x *= 2   # x = x * 2\n",
    "print(\"x after *= 2:\", x)\n",
    "\n",
    "x /= 4   # x = x / 4\n",
    "print(\"x after /= 4:\", x)\n",
    "\n",
    "x //= 2  # x = x // 2\n",
    "print(\"x after //= 2:\", x)\n",
    "\n",
    "x %= 3   # x = x % 3\n",
    "print(\"x after %= 3:\", x)\n",
    "\n",
    "x *= 2  # x = x * 2\n",
    "print(\"x after **= 2:\", x)\n",
    "\n",
    "# -------------------------------\n",
    "# 3. Comparison Operators\n",
    "# -------------------------------\n",
    "a = 10\n",
    "b = 20\n",
    "\n",
    "print(\"a == b:\", a == b)  # False\n",
    "print(\"a != b:\", a != b)  # True\n",
    "print(\"a > b:\", a > b)    # False\n",
    "print(\"a < b:\", a < b)    # True\n",
    "print(\"a >= b:\", a >= b)  # False\n",
    "print(\"a <= b:\", a <= b)  # True\n",
    "\n",
    "# -------------------------------\n",
    "# 4. Logical Operators\n",
    "# -------------------------------\n",
    "x = True\n",
    "y = False\n",
    "\n",
    "print(\"x and y:\", x and y)  # False\n",
    "print(\"x or y:\", x or y)    # True\n",
    "print(\"not x:\", not x)      # False"
   ]
  },
  {
   "cell_type": "markdown",
   "metadata": {},
   "source": [
    "4. Completes the following steps of small task:\n",
    "    - Mention Marks of English , Islamiat and Maths out of 100 in 3 different variables\n",
    "    - Mention Variable of Total Marks and assign 300 to it\n",
    "    - Calculate Percentage"
   ]
  },
  {
   "cell_type": "code",
   "execution_count": 14,
   "metadata": {},
   "outputs": [
    {
     "name": "stdout",
     "output_type": "stream",
     "text": [
      "English Marks: 85\n",
      "Islamiat Marks: 90\n",
      "Maths Marks: 80\n",
      "Obtained Marks: 255\n",
      "Total Marks: 300\n",
      "Percentage: 85.0 %\n"
     ]
    }
   ],
   "source": [
    "# Write your code here\n",
    "# Step 1: Mention Marks of English, Islamiat and Maths out of 100\n",
    "english = 85\n",
    "islamiat = 90\n",
    "maths = 80\n",
    "\n",
    "# Step 2: Mention Total Marks (since each subject is out of 100, total = 300)\n",
    "total_marks = 300\n",
    "\n",
    "# Step 3: Calculate obtained marks and percentage\n",
    "obtained_marks = english + islamiat + maths\n",
    "percentage = (obtained_marks / total_marks) * 100\n",
    "\n",
    "# Display results\n",
    "print(\"English Marks:\", english)\n",
    "print(\"Islamiat Marks:\", islamiat)\n",
    "print(\"Maths Marks:\", maths)\n",
    "print(\"Obtained Marks:\", obtained_marks)\n",
    "print(\"Total Marks:\", total_marks)\n",
    "print(\"Percentage:\", percentage, \"%\")\n"
   ]
  },
  {
   "cell_type": "markdown",
   "metadata": {},
   "source": [
    "# Part -2 Python Basics (Conditional Statements)"
   ]
  },
  {
   "cell_type": "markdown",
   "metadata": {},
   "source": [
    "1) A company decided to give bonus of 5% to employee if his/her year of service is more than 5 years.\n",
    "Ask user for their salary and year of service and print the net bonus amount."
   ]
  },
  {
   "cell_type": "code",
   "execution_count": 18,
   "metadata": {},
   "outputs": [
    {
     "name": "stdin",
     "output_type": "stream",
     "text": [
      "enter your year of service 7\n",
      "enter your salary 50000\n"
     ]
    },
    {
     "name": "stdout",
     "output_type": "stream",
     "text": [
      "You are eligible for bonus!\n",
      "Bonus Amount: 2500.0\n"
     ]
    }
   ],
   "source": [
    "#\n",
    "yearofservice=int(input(\"enter your year of service\"))\n",
    "salary=int(input(\"enter your salary\"))\n",
    "# Check condition\n",
    "if yearofservice > 5:\n",
    "    bonus = salary * 0.05\n",
    "    print(\"You are eligible for bonus!\")\n",
    "    print(\"Bonus Amount:\", bonus)\n",
    "else:\n",
    "    print(\"No bonus, your service is less than or equal to 5 year.\")\n"
   ]
  },
  {
   "cell_type": "markdown",
   "metadata": {},
   "source": [
    "\n",
    "2) Write a program to check whether a person is eligible for voting or not. (accept age from user) if age is greater than 17 eligible otherwise not eligible"
   ]
  },
  {
   "cell_type": "code",
   "execution_count": 20,
   "metadata": {},
   "outputs": [
    {
     "name": "stdin",
     "output_type": "stream",
     "text": [
      "enter your age 7\n"
     ]
    },
    {
     "name": "stdout",
     "output_type": "stream",
     "text": [
      "you are not eligible for voteing\n"
     ]
    }
   ],
   "source": [
    "#Type your code here\n",
    "age=int(input(\"enter your age\"))\n",
    "if age > 17:\n",
    "    print(\"you are eligible for voteing\")\n",
    "else:\n",
    "    print(\"you are not eligible for voteing\")\n"
   ]
  },
  {
   "cell_type": "markdown",
   "metadata": {},
   "source": [
    "\n",
    "3) Write a program to check whether a number entered by user is even or odd."
   ]
  },
  {
   "cell_type": "code",
   "execution_count": 21,
   "metadata": {},
   "outputs": [
    {
     "name": "stdin",
     "output_type": "stream",
     "text": [
      "Enter a number:  3\n"
     ]
    },
    {
     "name": "stdout",
     "output_type": "stream",
     "text": [
      "3 is Odd\n"
     ]
    }
   ],
   "source": [
    "#Type your code here\n",
    "# Ask user for a number\n",
    "num = int(input(\"Enter a number: \"))\n",
    "\n",
    "# Check even or odd using modulus operator\n",
    "if num % 2 == 0:\n",
    "    print(num, \"is Even\")\n",
    "else:\n",
    "    print(num, \"is Odd\")\n",
    "\n"
   ]
  },
  {
   "cell_type": "markdown",
   "metadata": {},
   "source": [
    "4) Write a program to check whether a number is divisible by 7 or not.\n",
    "Show Answer"
   ]
  },
  {
   "cell_type": "code",
   "execution_count": 23,
   "metadata": {},
   "outputs": [
    {
     "name": "stdin",
     "output_type": "stream",
     "text": [
      "Enter a number:  49\n"
     ]
    },
    {
     "name": "stdout",
     "output_type": "stream",
     "text": [
      "49 is divisble\n"
     ]
    }
   ],
   "source": [
    "#Type your code here\n",
    "num = int(input(\"Enter a number: \"))\n",
    "\n",
    "# Check even or odd using modulus operator\n",
    "if num % 7 == 0:\n",
    "    print(num, \"is divisble\")\n",
    "else:\n",
    "    print(num, \"is not divisble\")\n",
    "\n"
   ]
  },
  {
   "cell_type": "markdown",
   "metadata": {},
   "source": [
    "5) Write a program to display \n",
    "\"Hello\" if a number entered by user is a multiple of five , otherwise print \"Bye\"."
   ]
  },
  {
   "cell_type": "code",
   "execution_count": 24,
   "metadata": {},
   "outputs": [
    {
     "name": "stdin",
     "output_type": "stream",
     "text": [
      "Enter a number:  3\n"
     ]
    },
    {
     "name": "stdout",
     "output_type": "stream",
     "text": [
      "Bye\n"
     ]
    }
   ],
   "source": [
    "#Type your code here\n",
    "# Ask user for a number\n",
    "num = int(input(\"Enter a number: \"))\n",
    "\n",
    "# Check if multiple of 5\n",
    "if num % 5 == 0:\n",
    "    print(\"Hello\")\n",
    "else:\n",
    "    print(\"Bye\")\n"
   ]
  },
  {
   "cell_type": "markdown",
   "metadata": {},
   "source": [
    "7) Write a program to display the last digit of a number.\n"
   ]
  },
  {
   "cell_type": "code",
   "execution_count": 26,
   "metadata": {},
   "outputs": [
    {
     "name": "stdin",
     "output_type": "stream",
     "text": [
      "Enter a number:  -4\n"
     ]
    },
    {
     "name": "stdout",
     "output_type": "stream",
     "text": [
      "invalid \n"
     ]
    }
   ],
   "source": [
    "# Ask user for a number\n",
    "num = int(input(\"Enter a number: \"))\n",
    "\n",
    "# Find last digit using if-else\n",
    "if num >= 0:\n",
    "    last_digit = num % 10\n",
    "    print(\"Last digit is:\", last_digit)\n",
    "else:\n",
    "    print(\"invalid \")\n",
    "\n",
    "\n"
   ]
  },
  {
   "cell_type": "markdown",
   "metadata": {},
   "source": [
    "9) Take values of length and breadth of a rectangle from user and print if it is square or rectangle."
   ]
  },
  {
   "cell_type": "code",
   "execution_count": 29,
   "metadata": {},
   "outputs": [
    {
     "name": "stdin",
     "output_type": "stream",
     "text": [
      "Enter a length 45\n",
      "Enter a breath 45\n"
     ]
    },
    {
     "name": "stdout",
     "output_type": "stream",
     "text": [
      "its a square\n"
     ]
    }
   ],
   "source": [
    "#Type your code here \n",
    "length=int(input(\"Enter a length\"))\n",
    "breath= int(input(\"Enter a breath\"))\n",
    "\n",
    "if length==breath:\n",
    "    print(\"its a square\")\n",
    "else:\n",
    "    print(\"its a rectangle\")"
   ]
  },
  {
   "cell_type": "markdown",
   "metadata": {},
   "source": [
    "10) Take two int values from user and print greatest among them."
   ]
  },
  {
   "cell_type": "code",
   "execution_count": 30,
   "metadata": {},
   "outputs": [
    {
     "name": "stdin",
     "output_type": "stream",
     "text": [
      "Enter first number:  45\n",
      "Enter second number:  67\n"
     ]
    },
    {
     "name": "stdout",
     "output_type": "stream",
     "text": [
      "Greatest number is: 67\n"
     ]
    }
   ],
   "source": [
    "# Type your code here\n",
    "# Take two integers from user\n",
    "a = int(input(\"Enter first number: \"))\n",
    "b = int(input(\"Enter second number: \"))\n",
    "\n",
    "# Check which is greater\n",
    "if a > b:\n",
    "    print(\"Greatest number is:\", a)\n",
    "elif b > a:\n",
    "    print(\"Greatest number is:\", b)\n",
    "else:\n",
    "    print(\"Both numbers are equal\")\n"
   ]
  },
  {
   "cell_type": "markdown",
   "metadata": {},
   "source": [
    "11) A shop will give discount of 10% if the cost of purchased quantity is more than 1000.\n",
    "Ask user for quantity\n",
    "Suppose, one unit will cost 100.\n",
    "Judge and print total cost for user."
   ]
  },
  {
   "cell_type": "code",
   "execution_count": 31,
   "metadata": {},
   "outputs": [
    {
     "name": "stdin",
     "output_type": "stream",
     "text": [
      "Enter quantity:  11\n"
     ]
    },
    {
     "name": "stdout",
     "output_type": "stream",
     "text": [
      "You got a 10% discount!\n",
      "Total cost to pay: 990.0\n"
     ]
    }
   ],
   "source": [
    "#Type your code here\n",
    "# Ask user for quantity\n",
    "quantity = int(input(\"Enter quantity: \"))\n",
    "\n",
    "# Price per unit\n",
    "unit_price = 100\n",
    "\n",
    "# Calculate total cost\n",
    "total_cost = quantity * unit_price\n",
    "\n",
    "# Check for discount\n",
    "if total_cost > 1000:\n",
    "    discount = total_cost * 0.10   # 10% discount\n",
    "    total_cost = total_cost - discount\n",
    "    print(\"You got a 10% discount!\")\n",
    "    print(\"Total cost to pay:\", total_cost)\n",
    "else:\n",
    "    print(\"you didn't get any discount\")\n"
   ]
  },
  {
   "cell_type": "markdown",
   "metadata": {},
   "source": [
    "12) A school has following rules for grading system:\n",
    "\n",
    "a. Below 25 - F\n",
    "\n",
    "b. 25 to 45 - E\n",
    "\n",
    "c. 45 to 50 - D\n",
    "\n",
    "d. 50 to 60 - C\n",
    "\n",
    "e. 60 to 80 - B\n",
    "\n",
    "f. Above 80 - A\n",
    "\n",
    "Ask user to enter marks and print the corresponding grade."
   ]
  },
  {
   "cell_type": "code",
   "execution_count": 33,
   "metadata": {},
   "outputs": [
    {
     "name": "stdin",
     "output_type": "stream",
     "text": [
      "enter your marks 50\n"
     ]
    },
    {
     "name": "stdout",
     "output_type": "stream",
     "text": [
      "Your Grade is: C\n"
     ]
    }
   ],
   "source": [
    "#Type your code here\n",
    "marks=int(input(\"enter your marks\"))\n",
    "if marks < 25:\n",
    "    grade = \"F\"\n",
    "elif marks >= 25 and marks < 45:\n",
    "    grade = \"E\"\n",
    "elif marks >= 45 and marks < 50:\n",
    "    grade = \"D\"\n",
    "elif marks >= 50 and marks < 60:\n",
    "    grade = \"C\"\n",
    "elif marks >= 60 and marks <= 80:\n",
    "    grade = \"B\"\n",
    "else:  # Above 80\n",
    "    grade = \"A\"\n",
    "\n",
    "print(\"Your Grade is:\", grade)"
   ]
  },
  {
   "cell_type": "markdown",
   "metadata": {},
   "source": [
    "14)A student will not be allowed to sit in exam if his/her attendence is less than 75%.\n",
    "\n",
    "Take following input from user\n",
    "\n",
    "- Number of classes held\n",
    "\n",
    "- Number of classes attended.\n",
    "\n",
    "And print\n",
    "\n",
    "- percentage of class attended\n",
    "\n",
    "- Is student is allowed to sit in exam or not.\n"
   ]
  },
  {
   "cell_type": "code",
   "execution_count": 38,
   "metadata": {},
   "outputs": [
    {
     "name": "stdin",
     "output_type": "stream",
     "text": [
      "Enter number of classes held:  29\n",
      "Enter number of classes attended:  20\n"
     ]
    },
    {
     "name": "stdout",
     "output_type": "stream",
     "text": [
      "Attendance Percentage: 68.96551724137932 %\n",
      "You are NOT allowed to sit in the exam\n"
     ]
    }
   ],
   "source": [
    "#Type your code here\n",
    "classes_held = int(input(\"Enter number of classes held: \"))\n",
    "classes_attended = int(input(\"Enter number of classes attended: \"))\n",
    "attendance_percentage = (classes_attended / classes_held) * 100\n",
    "print(\"Attendance Percentage:\", attendance_percentage, \"%\")\n",
    "if attendance_percentage >= 75:\n",
    "    print(\"You are allowed to sit in the exam.\")\n",
    "else:\n",
    "    print(\"You are NOT allowed to sit in the exam\")"
   ]
  },
  {
   "cell_type": "markdown",
   "metadata": {},
   "source": [
    "15) Modify the above question to allow student to sit if he/she has medical cause. Ask user if he/she has medical cause or not ( 'Y' or 'N' ) and print accordingly."
   ]
  },
  {
   "cell_type": "code",
   "execution_count": 42,
   "metadata": {},
   "outputs": [
    {
     "name": "stdin",
     "output_type": "stream",
     "text": [
      "Do you have a medical cause? (Y/N):  Y\n"
     ]
    },
    {
     "name": "stdout",
     "output_type": "stream",
     "text": [
      "You are allowed to sit in the exam due to medical cause.\n"
     ]
    }
   ],
   "source": [
    "#Type your code here\n",
    "medical_cause = input(\"Do you have a medical cause? (Y/N): \")\n",
    "if medical_cause.upper() == 'Y':\n",
    "    print(\"You are allowed to sit in the exam due to medical cause.\")\n",
    "else:\n",
    "    print(\"You are NOT allowed to sit in the exam\")"
   ]
  },
  {
   "cell_type": "markdown",
   "metadata": {},
   "source": [
    "16) Write a program to check if a year is leap year or not.\n",
    "\n",
    "If a year is divisible by 4 then it is leap year but if the year is century year like 2000, 1900, 2100 then it must be divisible by 400."
   ]
  },
  {
   "cell_type": "code",
   "execution_count": 46,
   "metadata": {},
   "outputs": [
    {
     "name": "stdin",
     "output_type": "stream",
     "text": [
      "Enter a year:  23\n"
     ]
    },
    {
     "name": "stdout",
     "output_type": "stream",
     "text": [
      "23 is NOT a Leap Year\n"
     ]
    }
   ],
   "source": [
    "#Type your code here\n",
    "year = int(input(\"Enter a year: \"))\n",
    "\n",
    "# Check leap year conditions\n",
    "if (year % 400 == 0) or (year % 4 == 0 and year % 100 != 0):\n",
    "    print(year, \"is a Leap Year\")\n",
    "else:\n",
    "    print(year, \"is NOT a Leap Year\")"
   ]
  },
  {
   "cell_type": "markdown",
   "metadata": {},
   "source": [
    "17) Ask user to enter age, gender ( M or F ), marital status ( Y or N ) and then using following rules print their place of service.\n",
    "\n",
    "if employee is female, then she will work only in urban areas.\n",
    "\n",
    "if employee is a male and age is in between 20 to 40 then he may work in anywhere\n",
    "\n",
    "if employee is male and age is in between 40 t0 60 then he will work in urban areas only.\n",
    "\n",
    "And any other input of age should print \"ERROR\""
   ]
  },
  {
   "cell_type": "code",
   "execution_count": 47,
   "metadata": {},
   "outputs": [
    {
     "name": "stdin",
     "output_type": "stream",
     "text": [
      "Enter age:  30\n",
      "Enter gender (M/F):  m\n",
      "Enter marital status (Y/N):  y\n"
     ]
    },
    {
     "name": "stdout",
     "output_type": "stream",
     "text": [
      "Employee may work anywhere.\n"
     ]
    }
   ],
   "source": [
    "#Type your code here\n",
    "age = int(input(\"Enter your age: \"))\n",
    "gender = input(\"Enter your gender (M/F): \")\n",
    "marital_status = input(\"Enter your marital status (Y/N): \")\n",
    "if gender.upper() == 'F':\n",
    "    print(\"Employee will work only in urban areas.\")\n",
    "elif gender.upper() == 'M':\n",
    "    if 20 <= age <= 40:\n",
    "        print(\"Employee may work anywhere.\")\n",
    "    elif 40 < age <= 60:\n",
    "        print(\"Employee will work only in urban areas.\")\n",
    "    else:\n",
    "        print(\"ERROR\")\n",
    "else:\n",
    "    print(\"ERROR\")"
   ]
  },
  {
   "cell_type": "markdown",
   "metadata": {},
   "source": [
    "6) Write a program to calculate the electricity bill (accept number of unit from user) according to the following criteria :\n",
    "     Unit                                                     Price  \n",
    "uptp 100 units                                             no charge\n",
    "Next 200 units                                              Rs 5 per unit\n",
    "After 200 units                                             Rs 10 per unit\n",
    "(For example if input unit is 350 than total bill amount is Rs.3500\n",
    "(For example if input unit is 97 than total bill amount is Rs.0\n",
    "(For example if input unit is 150 than total bill amount is Rs.750"
   ]
  },
  {
   "cell_type": "markdown",
   "metadata": {},
   "source": [
    "13) Take input of age of 3 people by user and determine oldest and youngest among them."
   ]
  },
  {
   "cell_type": "code",
   "execution_count": 48,
   "metadata": {},
   "outputs": [
    {
     "name": "stdin",
     "output_type": "stream",
     "text": [
      "Enter age of first person:  20\n",
      "Enter age of second person:  20\n",
      "Enter age of third person:  20\n"
     ]
    },
    {
     "name": "stdout",
     "output_type": "stream",
     "text": [
      "Oldest age is: 20\n",
      "Youngest age is: 20\n"
     ]
    }
   ],
   "source": [
    "#Type your code here\n",
    "age1 = int(input(\"Enter age of first person: \"))\n",
    "age2 = int(input(\"Enter age of second person: \"))\n",
    "age3 = int(input(\"Enter age of third person: \"))\n",
    "\n",
    "# Find oldest and youngest using max() and min()\n",
    "oldest = max(age1, age2, age3)\n",
    "youngest = min(age1, age2, age3)\n",
    "\n",
    "print(\"Oldest age is:\", oldest)\n",
    "print(\"Youngest age is:\", youngest)"
   ]
  },
  {
   "cell_type": "code",
   "execution_count": null,
   "metadata": {},
   "outputs": [],
   "source": []
  }
 ],
 "metadata": {
  "kernelspec": {
   "display_name": "Python 3 (ipykernel)",
   "language": "python",
   "name": "python3"
  },
  "language_info": {
   "codemirror_mode": {
    "name": "ipython",
    "version": 3
   },
   "file_extension": ".py",
   "mimetype": "text/x-python",
   "name": "python",
   "nbconvert_exporter": "python",
   "pygments_lexer": "ipython3",
   "version": "3.13.5"
  }
 },
 "nbformat": 4,
 "nbformat_minor": 4
}
